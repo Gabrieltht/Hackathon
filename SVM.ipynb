{
 "cells": [
  {
   "cell_type": "code",
   "execution_count": 25,
   "metadata": {},
   "outputs": [
    {
     "name": "stdout",
     "output_type": "stream",
     "text": [
      "(53254, 51827)\n",
      "[0 1 0 ... 0 1 0]\n",
      "[0 1 0 ... 1 0 0]\n",
      "Accuracy on test data is 98.30381172936096%.\n"
     ]
    }
   ],
   "source": [
    "import pandas as pd\n",
    "import numpy as np\n",
    "from sklearn.svm import SVC\n",
    "from sklearn.feature_extraction.text import TfidfVectorizer\n",
    "from sklearn.model_selection import train_test_split\n",
    "\n",
    "# convert df to a list of text document\n",
    "# depression\n",
    "depress_df = pd.read_csv(\"dataset/depression.csv\")\n",
    "depression_quotes_lst = depress_df[\"post\"].tolist()\n",
    "\n",
    "# normal\n",
    "tweets_df = pd.read_csv(\"dataset/Tweets.csv\")\n",
    "# remove negative sentiment\n",
    "positive_df = tweets_df[tweets_df[\"sentiment\"].str.contains(\"negative\") == False]\n",
    "normal_quotes_lst = positive_df[\"text\"].values.astype('U').tolist()\n",
    "\n",
    "# combine the two lists\n",
    "final_list = depression_quotes_lst + normal_quotes_lst\n",
    "\n",
    "# encode text data\n",
    "vectorizer = TfidfVectorizer()\n",
    "vectorizer.fit(final_list)\n",
    "vector = vectorizer.transform(final_list)\n",
    "\n",
    "# depression shape (33554, 41111)\n",
    "# normal shape (19700, 16101)\n",
    "depression_target = [1] * len(depression_quotes_lst)\n",
    "normal_target = [0] * len(normal_quotes_lst)\n",
    "\n",
    "X = vector\n",
    "y = np.asarray(depression_target + normal_target)\n",
    "\n",
    "X_train, X_test, y_train, y_test = train_test_split(X, y, test_size=0.3, random_state=21, stratify = y)\n",
    "\n",
    "print(X.shape)\n",
    "print(y_train)\n",
    "\n",
    "clf = SVC().fit(X_train, y_train)\n",
    "\n",
    "preds = clf.predict(X_test)\n",
    "\n",
    "print(preds)\n",
    "\n",
    "accuracy = np.mean(preds == y_test)\n",
    "print(f'Accuracy on test data is {accuracy*100}%.')\n"
   ]
  },
  {
   "cell_type": "code",
   "execution_count": 29,
   "metadata": {},
   "outputs": [
    {
     "name": "stdout",
     "output_type": "stream",
     "text": [
      "[1]\n"
     ]
    }
   ],
   "source": [
    "new_quote = [\"\"\"\n",
    "I’m 25F and I have around 25k of debt and I’m afraid I might have to drop school again because of money issues and I can’t do driving classes or even buying a car because of money issues. I also may have to move or find a roomate and so all my savings will go towards that. I see 30s year old people out of the blue having houses, condos, a car and all that grown up stuff and I’m like how did you do it ? People tell me just invest but where do I even start ? There are so many ways and so many financial institutions to invest in ? I’m from Canada and heard about the \" Bons de trésor\" something like that ? Knowledge is power and I will obviously improve my financial literacy but I feel like it might be too late. For context, I don’t have a single soul around me and had to cut contact with my family, also even I was in contact with them even asking for $1 is too much for my parents/siblings. My credit score is currently 625. It’s 100% my fault and I should have take care of my emotional needs instead of emotional eating and fucking up my financial situation/credit. Help. Anything. How did you get out of financial insecurity?\n",
    "\"\"\"]\n",
    "new_vector = vectorizer.transform(new_quote)\n",
    "new_preds = clf.predict(new_vector)\n",
    "print(new_preds)\n"
   ]
  },
  {
   "cell_type": "code",
   "execution_count": null,
   "metadata": {},
   "outputs": [],
   "source": []
  }
 ],
 "metadata": {
  "kernelspec": {
   "display_name": "Python 3",
   "language": "python",
   "name": "python3"
  },
  "language_info": {
   "codemirror_mode": {
    "name": "ipython",
    "version": 3
   },
   "file_extension": ".py",
   "mimetype": "text/x-python",
   "name": "python",
   "nbconvert_exporter": "python",
   "pygments_lexer": "ipython3",
   "version": "3.7.2"
  },
  "orig_nbformat": 4
 },
 "nbformat": 4,
 "nbformat_minor": 2
}
